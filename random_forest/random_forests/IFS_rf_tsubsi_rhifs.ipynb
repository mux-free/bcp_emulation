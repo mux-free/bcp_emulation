{
 "cells": [
  {
   "cell_type": "code",
   "execution_count": 1,
   "metadata": {},
   "outputs": [],
   "source": [
    "%load_ext autoreload\n",
    "%autoreload 2"
   ]
  },
  {
   "cell_type": "code",
   "execution_count": 2,
   "metadata": {},
   "outputs": [],
   "source": [
    "## Load modules\n",
    "import xarray as xr\n",
    "import pandas as pd\n",
    "import numpy as np\n",
    "import matplotlib.pyplot as plt\n",
    "from matplotlib.gridspec import GridSpec\n",
    "import seaborn as sns\n",
    "from scipy import stats\n",
    "\n",
    "import os\n",
    "import joblib\n",
    "import pickle\n",
    "import sys\n",
    "\n",
    "from sklearn.ensemble import RandomForestRegressor\n",
    "from sklearn.metrics import r2_score, mean_squared_error\n",
    "from sklearn.model_selection import cross_val_score\n",
    "from joblib import dump\n",
    "\n",
    "\n",
    "sys.path.append('/home/freimax/msc_thesis/scripts/plotting_functions/')\n",
    "from plot_functions import plot_cross_section, draw_color_blocks, add_inset_plot\n",
    "sys.path.append('/home/freimax/msc_thesis/scripts/random_forest/')\n",
    "import rf_functions"
   ]
  },
  {
   "cell_type": "code",
   "execution_count": null,
   "metadata": {},
   "outputs": [],
   "source": [
    "\n"
   ]
  },
  {
   "cell_type": "code",
   "execution_count": 3,
   "metadata": {},
   "outputs": [
    {
     "name": "stdout",
     "output_type": "stream",
     "text": [
      "Concatente all df to one\n",
      "Concatente all df to one\n"
     ]
    }
   ],
   "source": [
    "## Load training data\n",
    "\n",
    "def load_data(train_val='train'):\n",
    "    assert isinstance(train_val, str) and train_val in ['train', 'val'], \"train_val should be a string and must be either 'train' or 'val'\"\n",
    "    \n",
    "    monthlist = ['DEC17','JAN18','FEB18','MAR18','APR18','MAY18','JUN18','JUL18','AUG18','SEP18','OCT18','NOV18']\n",
    "    path = '/net/helium/atmosdyn/freimax/data_msc/IFS-18/cyclones/data_random_forest'\n",
    "\n",
    "    list_df_1month = []\n",
    "    for month in monthlist:\n",
    "        list_df_1month.append(pd.read_pickle(f'{path}/{month}/df_ifs_masked_{train_val}.pkl'))\n",
    "\n",
    "    # Concatenate all dataframes in the list into a single dataframe\n",
    "    print('Concatente all df to one')\n",
    "    df = pd.concat(list_df_1month, ignore_index=True)\n",
    "\n",
    "    return df\n",
    "\n",
    "df_train = load_data('train')\n",
    "df_val = load_data('val')"
   ]
  },
  {
   "cell_type": "code",
   "execution_count": 4,
   "metadata": {},
   "outputs": [],
   "source": [
    "## Drop unnecessary columns\n",
    "df_train = df_train.drop(['tevr', 'RWC', 'tmeltsi'], axis=1)\n",
    "df_val = df_val.drop(['tevr', 'RWC', 'tmeltsi'], axis=1)\n"
   ]
  },
  {
   "cell_type": "code",
   "execution_count": 5,
   "metadata": {},
   "outputs": [
    {
     "name": "stdout",
     "output_type": "stream",
     "text": [
      "(138658804, 6)\n",
      "(14548323, 6)\n"
     ]
    }
   ],
   "source": [
    "print(df_train.shape)\n",
    "print(df_val.shape)"
   ]
  },
  {
   "cell_type": "code",
   "execution_count": 6,
   "metadata": {},
   "outputs": [
    {
     "name": "stdout",
     "output_type": "stream",
     "text": [
      "Drop all points where SIWC == 0\n",
      "=================================================================================================\n",
      "Filtered dataframe size:\t5.53e+07 \t39.9% of size compared to unfiltered. (Points dropped: 83384643)\n",
      "=================================================================================================\n",
      "\n",
      "\tbcp_label was not part of dataframe, will create the labels now for following stats...\n",
      "\n",
      "Class 0 fraction (before drop):\t93.6%\n",
      "\n",
      "Class Balance New Dataframe:\n",
      "------------------------------\n",
      "Class 0 fraction:\t83.8%\t\t46340315 Points\n",
      "Class 1 fraction:\t15.6%\t\t8626129 Points\n",
      "Class 2 fraction:\t 0.6%\t\t 307717 Points\n",
      "------------------------------\t\t--------------\n",
      "Toatal points in new df:\t\t55274161 Points\n",
      "=================================================================================================\n",
      "\n",
      "\n"
     ]
    }
   ],
   "source": [
    "df_tsubsi_train = rf_functions.apply_domainfilter(df=df_train,\n",
    "                                                  water_type='SIWC',\n",
    "                                                  scale_temp=False,\n",
    "                                                  verbose=1,\n",
    "                                                  temp_filter=False,\n",
    "                                                  output_filter=False)"
   ]
  },
  {
   "cell_type": "code",
   "execution_count": 7,
   "metadata": {},
   "outputs": [
    {
     "data": {
      "text/html": [
       "<div>\n",
       "<style scoped>\n",
       "    .dataframe tbody tr th:only-of-type {\n",
       "        vertical-align: middle;\n",
       "    }\n",
       "\n",
       "    .dataframe tbody tr th {\n",
       "        vertical-align: top;\n",
       "    }\n",
       "\n",
       "    .dataframe thead th {\n",
       "        text-align: right;\n",
       "    }\n",
       "</style>\n",
       "<table border=\"1\" class=\"dataframe\">\n",
       "  <thead>\n",
       "    <tr style=\"text-align: right;\">\n",
       "      <th></th>\n",
       "      <th>CC</th>\n",
       "      <th>T</th>\n",
       "      <th>OMEGA</th>\n",
       "      <th>SIWC</th>\n",
       "      <th>tsubsi</th>\n",
       "      <th>RH_ifs</th>\n",
       "    </tr>\n",
       "  </thead>\n",
       "  <tbody>\n",
       "    <tr>\n",
       "      <th>261</th>\n",
       "      <td>0.015625</td>\n",
       "      <td>2.381683</td>\n",
       "      <td>0.061454</td>\n",
       "      <td>0.003858</td>\n",
       "      <td>-0.049531</td>\n",
       "      <td>0.878177</td>\n",
       "    </tr>\n",
       "    <tr>\n",
       "      <th>299</th>\n",
       "      <td>0.078125</td>\n",
       "      <td>1.998627</td>\n",
       "      <td>0.080702</td>\n",
       "      <td>0.042146</td>\n",
       "      <td>-0.186958</td>\n",
       "      <td>0.898980</td>\n",
       "    </tr>\n",
       "    <tr>\n",
       "      <th>311</th>\n",
       "      <td>0.000000</td>\n",
       "      <td>1.807343</td>\n",
       "      <td>0.076540</td>\n",
       "      <td>0.015261</td>\n",
       "      <td>-0.083875</td>\n",
       "      <td>0.919767</td>\n",
       "    </tr>\n",
       "    <tr>\n",
       "      <th>330</th>\n",
       "      <td>0.000000</td>\n",
       "      <td>2.127655</td>\n",
       "      <td>0.030886</td>\n",
       "      <td>0.008523</td>\n",
       "      <td>-0.068184</td>\n",
       "      <td>0.828871</td>\n",
       "    </tr>\n",
       "    <tr>\n",
       "      <th>337</th>\n",
       "      <td>0.078125</td>\n",
       "      <td>1.662811</td>\n",
       "      <td>0.101443</td>\n",
       "      <td>0.078710</td>\n",
       "      <td>-0.222531</td>\n",
       "      <td>0.915377</td>\n",
       "    </tr>\n",
       "    <tr>\n",
       "      <th>...</th>\n",
       "      <td>...</td>\n",
       "      <td>...</td>\n",
       "      <td>...</td>\n",
       "      <td>...</td>\n",
       "      <td>...</td>\n",
       "      <td>...</td>\n",
       "    </tr>\n",
       "    <tr>\n",
       "      <th>138655184</th>\n",
       "      <td>0.000000</td>\n",
       "      <td>-61.373047</td>\n",
       "      <td>-0.004432</td>\n",
       "      <td>0.000201</td>\n",
       "      <td>-0.000009</td>\n",
       "      <td>0.325532</td>\n",
       "    </tr>\n",
       "    <tr>\n",
       "      <th>138655185</th>\n",
       "      <td>0.023438</td>\n",
       "      <td>-63.494629</td>\n",
       "      <td>-0.054969</td>\n",
       "      <td>0.000119</td>\n",
       "      <td>-0.000101</td>\n",
       "      <td>0.508201</td>\n",
       "    </tr>\n",
       "    <tr>\n",
       "      <th>138655204</th>\n",
       "      <td>0.101562</td>\n",
       "      <td>-66.574219</td>\n",
       "      <td>-0.072852</td>\n",
       "      <td>0.000387</td>\n",
       "      <td>-0.000061</td>\n",
       "      <td>0.819873</td>\n",
       "    </tr>\n",
       "    <tr>\n",
       "      <th>138655370</th>\n",
       "      <td>0.000000</td>\n",
       "      <td>-56.816528</td>\n",
       "      <td>-0.170075</td>\n",
       "      <td>0.000030</td>\n",
       "      <td>0.000002</td>\n",
       "      <td>0.095168</td>\n",
       "    </tr>\n",
       "    <tr>\n",
       "      <th>138655388</th>\n",
       "      <td>0.000000</td>\n",
       "      <td>-63.162231</td>\n",
       "      <td>0.005584</td>\n",
       "      <td>0.000015</td>\n",
       "      <td>-0.000045</td>\n",
       "      <td>0.385182</td>\n",
       "    </tr>\n",
       "  </tbody>\n",
       "</table>\n",
       "<p>55274161 rows × 6 columns</p>\n",
       "</div>"
      ],
      "text/plain": [
       "                 CC          T     OMEGA      SIWC    tsubsi    RH_ifs\n",
       "261        0.015625   2.381683  0.061454  0.003858 -0.049531  0.878177\n",
       "299        0.078125   1.998627  0.080702  0.042146 -0.186958  0.898980\n",
       "311        0.000000   1.807343  0.076540  0.015261 -0.083875  0.919767\n",
       "330        0.000000   2.127655  0.030886  0.008523 -0.068184  0.828871\n",
       "337        0.078125   1.662811  0.101443  0.078710 -0.222531  0.915377\n",
       "...             ...        ...       ...       ...       ...       ...\n",
       "138655184  0.000000 -61.373047 -0.004432  0.000201 -0.000009  0.325532\n",
       "138655185  0.023438 -63.494629 -0.054969  0.000119 -0.000101  0.508201\n",
       "138655204  0.101562 -66.574219 -0.072852  0.000387 -0.000061  0.819873\n",
       "138655370  0.000000 -56.816528 -0.170075  0.000030  0.000002  0.095168\n",
       "138655388  0.000000 -63.162231  0.005584  0.000015 -0.000045  0.385182\n",
       "\n",
       "[55274161 rows x 6 columns]"
      ]
     },
     "execution_count": 7,
     "metadata": {},
     "output_type": "execute_result"
    }
   ],
   "source": [
    "df_tsubsi_train"
   ]
  },
  {
   "cell_type": "code",
   "execution_count": 8,
   "metadata": {},
   "outputs": [
    {
     "name": "stdout",
     "output_type": "stream",
     "text": [
      "Drop all points where SIWC == 0\n",
      "=================================================================================================\n",
      "Filtered dataframe size:\t6.02e+06 \t41.4% of size compared to unfiltered. (Points dropped: 8524206)\n",
      "=================================================================================================\n",
      "\n",
      "\tbcp_label was not part of dataframe, will create the labels now for following stats...\n",
      "\n",
      "Class 0 fraction (before drop):\t92.9%\n",
      "\n",
      "Class Balance New Dataframe:\n",
      "------------------------------\n",
      "Class 0 fraction:\t82.8%\t\t4986945 Points\n",
      "Class 1 fraction:\t16.6%\t\t1000411 Points\n",
      "Class 2 fraction:\t 0.6%\t\t  36761 Points\n",
      "------------------------------\t\t--------------\n",
      "Toatal points in new df:\t\t6024117 Points\n",
      "=================================================================================================\n",
      "\n",
      "\n"
     ]
    }
   ],
   "source": [
    "df_tsubsi_val = rf_functions.apply_domainfilter(df=df_val,\n",
    "                                                water_type='SIWC',\n",
    "                                                verbose=1,\n",
    "                                                scale_temp=False,temp_filter=False,output_filter=False)"
   ]
  },
  {
   "cell_type": "code",
   "execution_count": 9,
   "metadata": {},
   "outputs": [],
   "source": [
    "# Define the predictors and the target\n",
    "target = 'tsubsi'\n",
    "\n",
    "X_train = df_tsubsi_train.drop([target], axis=1)\n",
    "y_train = df_tsubsi_train[target]\n",
    "\n",
    "X_val = df_tsubsi_val.drop([target], axis=1)\n",
    "y_val = df_tsubsi_val[target]"
   ]
  },
  {
   "cell_type": "code",
   "execution_count": 17,
   "metadata": {},
   "outputs": [
    {
     "data": {
      "text/html": [
       "<div>\n",
       "<style scoped>\n",
       "    .dataframe tbody tr th:only-of-type {\n",
       "        vertical-align: middle;\n",
       "    }\n",
       "\n",
       "    .dataframe tbody tr th {\n",
       "        vertical-align: top;\n",
       "    }\n",
       "\n",
       "    .dataframe thead th {\n",
       "        text-align: right;\n",
       "    }\n",
       "</style>\n",
       "<table border=\"1\" class=\"dataframe\">\n",
       "  <thead>\n",
       "    <tr style=\"text-align: right;\">\n",
       "      <th></th>\n",
       "      <th>CC</th>\n",
       "      <th>T</th>\n",
       "      <th>OMEGA</th>\n",
       "      <th>SIWC</th>\n",
       "      <th>RH_ifs</th>\n",
       "    </tr>\n",
       "  </thead>\n",
       "  <tbody>\n",
       "    <tr>\n",
       "      <th>261</th>\n",
       "      <td>0.015625</td>\n",
       "      <td>2.381683</td>\n",
       "      <td>0.061454</td>\n",
       "      <td>0.003858</td>\n",
       "      <td>0.878177</td>\n",
       "    </tr>\n",
       "    <tr>\n",
       "      <th>299</th>\n",
       "      <td>0.078125</td>\n",
       "      <td>1.998627</td>\n",
       "      <td>0.080702</td>\n",
       "      <td>0.042146</td>\n",
       "      <td>0.898980</td>\n",
       "    </tr>\n",
       "    <tr>\n",
       "      <th>311</th>\n",
       "      <td>0.000000</td>\n",
       "      <td>1.807343</td>\n",
       "      <td>0.076540</td>\n",
       "      <td>0.015261</td>\n",
       "      <td>0.919767</td>\n",
       "    </tr>\n",
       "    <tr>\n",
       "      <th>330</th>\n",
       "      <td>0.000000</td>\n",
       "      <td>2.127655</td>\n",
       "      <td>0.030886</td>\n",
       "      <td>0.008523</td>\n",
       "      <td>0.828871</td>\n",
       "    </tr>\n",
       "    <tr>\n",
       "      <th>337</th>\n",
       "      <td>0.078125</td>\n",
       "      <td>1.662811</td>\n",
       "      <td>0.101443</td>\n",
       "      <td>0.078710</td>\n",
       "      <td>0.915377</td>\n",
       "    </tr>\n",
       "    <tr>\n",
       "      <th>...</th>\n",
       "      <td>...</td>\n",
       "      <td>...</td>\n",
       "      <td>...</td>\n",
       "      <td>...</td>\n",
       "      <td>...</td>\n",
       "    </tr>\n",
       "    <tr>\n",
       "      <th>138655184</th>\n",
       "      <td>0.000000</td>\n",
       "      <td>-61.373047</td>\n",
       "      <td>-0.004432</td>\n",
       "      <td>0.000201</td>\n",
       "      <td>0.325532</td>\n",
       "    </tr>\n",
       "    <tr>\n",
       "      <th>138655185</th>\n",
       "      <td>0.023438</td>\n",
       "      <td>-63.494629</td>\n",
       "      <td>-0.054969</td>\n",
       "      <td>0.000119</td>\n",
       "      <td>0.508201</td>\n",
       "    </tr>\n",
       "    <tr>\n",
       "      <th>138655204</th>\n",
       "      <td>0.101562</td>\n",
       "      <td>-66.574219</td>\n",
       "      <td>-0.072852</td>\n",
       "      <td>0.000387</td>\n",
       "      <td>0.819873</td>\n",
       "    </tr>\n",
       "    <tr>\n",
       "      <th>138655370</th>\n",
       "      <td>0.000000</td>\n",
       "      <td>-56.816528</td>\n",
       "      <td>-0.170075</td>\n",
       "      <td>0.000030</td>\n",
       "      <td>0.095168</td>\n",
       "    </tr>\n",
       "    <tr>\n",
       "      <th>138655388</th>\n",
       "      <td>0.000000</td>\n",
       "      <td>-63.162231</td>\n",
       "      <td>0.005584</td>\n",
       "      <td>0.000015</td>\n",
       "      <td>0.385182</td>\n",
       "    </tr>\n",
       "  </tbody>\n",
       "</table>\n",
       "<p>55274161 rows × 5 columns</p>\n",
       "</div>"
      ],
      "text/plain": [
       "                 CC          T     OMEGA      SIWC    RH_ifs\n",
       "261        0.015625   2.381683  0.061454  0.003858  0.878177\n",
       "299        0.078125   1.998627  0.080702  0.042146  0.898980\n",
       "311        0.000000   1.807343  0.076540  0.015261  0.919767\n",
       "330        0.000000   2.127655  0.030886  0.008523  0.828871\n",
       "337        0.078125   1.662811  0.101443  0.078710  0.915377\n",
       "...             ...        ...       ...       ...       ...\n",
       "138655184  0.000000 -61.373047 -0.004432  0.000201  0.325532\n",
       "138655185  0.023438 -63.494629 -0.054969  0.000119  0.508201\n",
       "138655204  0.101562 -66.574219 -0.072852  0.000387  0.819873\n",
       "138655370  0.000000 -56.816528 -0.170075  0.000030  0.095168\n",
       "138655388  0.000000 -63.162231  0.005584  0.000015  0.385182\n",
       "\n",
       "[55274161 rows x 5 columns]"
      ]
     },
     "execution_count": 17,
     "metadata": {},
     "output_type": "execute_result"
    }
   ],
   "source": [
    "X_train"
   ]
  },
  {
   "cell_type": "code",
   "execution_count": 10,
   "metadata": {},
   "outputs": [],
   "source": [
    "assert X_train.shape[0] == y_train.shape[0]\n",
    "assert X_val.shape[0] == y_val.shape[0]"
   ]
  },
  {
   "cell_type": "code",
   "execution_count": 11,
   "metadata": {},
   "outputs": [],
   "source": [
    "def grid_search_with_validation_set(X_train, y_train, \n",
    "                                    X_val  , y_val  , \n",
    "                                    param_grid, \n",
    "                                    save_name):\n",
    "\n",
    "    best_mse = np.inf\n",
    "    best_params = None\n",
    "    best_model = None\n",
    "\n",
    "    total_iter = 1\n",
    "    for key in param_grid.keys():\n",
    "        total_iter *= len(param_grid[key])\n",
    "    current_i = 0\n",
    "    print('\\nStart Grid-Search:')\n",
    "    # Loop over the parameter grid\n",
    "    for n_estimators in param_grid['n_estimators']:\n",
    "        for max_depth in param_grid['max_depth']:\n",
    "            for max_features in param_grid['max_features']:\n",
    "                for min_samples_split in param_grid['min_samples_split']:\n",
    "                    for min_samples_leaf in param_grid['min_samples_leaf']:\n",
    "                        for criterion in param_grid['criterion']:\n",
    "                            current_i +=1\n",
    "                            # Create and train a Random Forest model\n",
    "                            rf = RandomForestRegressor(n_estimators=n_estimators,\n",
    "                                                        max_depth=max_depth,\n",
    "                                                        max_features=max_features,\n",
    "                                                        min_samples_split=min_samples_split,\n",
    "                                                        min_samples_leaf=min_samples_leaf,\n",
    "                                                        criterion=criterion,\n",
    "                                                        n_jobs=35)\n",
    "                            rf.fit(X_train, y_train)\n",
    "                            # Predict the validation set results and compute the mean squared error\n",
    "                            y_pred = rf.predict(X_val)\n",
    "                            mse = mean_squared_error(y_val, y_pred)\n",
    "                            # If this is the best model so far, save its parameters and score\n",
    "                            if mse < best_mse:\n",
    "                                best_mse = mse\n",
    "                                best_params = {'n_estimators': n_estimators, 'max_depth': max_depth, 'max_features': max_features, 'min_samples_split': min_samples_split}\n",
    "                                best_model = rf\n",
    "\n",
    "                                print(f'Model {current_i:3} of {total_iter:3} | n_estimators ={n_estimators:4} | max_depth = {max_depth} | max_features ={max_features:3} | min_samples_split ={min_samples_split:3}| min_samples_leaf ={min_samples_leaf:2} | criterion = {criterion} | RMSE: {np.sqrt(mse):.5f}  (NEW BEST)')\n",
    "    \n",
    "    print(f'\\nBest parameters: {best_params}')\n",
    "    print(f'Best MSE: {best_mse}  -->  Best RMSE: {np.sqrt(best_mse)}')\n",
    "\n",
    "    dump(best_model, f'/net/helium/atmosdyn/freimax/data_msc/IFS-18/tsubsi/{save_name}.joblib')\n",
    "    return best_model, best_params\n"
   ]
  },
  {
   "cell_type": "code",
   "execution_count": 12,
   "metadata": {},
   "outputs": [
    {
     "name": "stdout",
     "output_type": "stream",
     "text": [
      "Model exists\n"
     ]
    }
   ],
   "source": [
    "filepath = f\"/net/helium/atmosdyn/freimax/data_msc/IFS-18/tsubsi/first_try_tsubsi.joblib\"\n",
    "\n",
    "if os.path.isfile(filepath):\n",
    "    print('Model exists')\n",
    "else:\n",
    "    doublecheck = input('Do you want to run the model?  (yes/no)')\n",
    "    if doublecheck == 'yes':\n",
    "        # Define the hyperparameters for grid search\n",
    "        param_grid = {\n",
    "            'n_estimators': [100, 200],\n",
    "            'max_depth': [None, 10, 30, ],\n",
    "            'max_features': [3,5],\n",
    "            'min_samples_split': [2,10]\n",
    "        }\n",
    "\n",
    "\n",
    "        # Call the function\n",
    "        best_model, best_params = grid_search_with_validation_set(X_train=X_train,\n",
    "                                                                y_train=y_train,\n",
    "                                                                X_val=X_val,\n",
    "                                                                y_val=y_val,\n",
    "                                                                param_grid=param_grid,\n",
    "                                                                save_name='rf_fulldata_gridsearch')\n"
   ]
  },
  {
   "cell_type": "code",
   "execution_count": 13,
   "metadata": {},
   "outputs": [],
   "source": [
    "# Load your trained model\n",
    "best_model = joblib.load('/net/helium/atmosdyn/freimax/data_msc/IFS-18/tsubsi/first_try_tsubsi.joblib')"
   ]
  },
  {
   "cell_type": "code",
   "execution_count": 14,
   "metadata": {},
   "outputs": [],
   "source": [
    "y_pred = best_model.predict(X_val)"
   ]
  },
  {
   "cell_type": "code",
   "execution_count": 15,
   "metadata": {},
   "outputs": [
    {
     "name": "stdout",
     "output_type": "stream",
     "text": [
      "Root Mean Squared Error (RMSE): 0.08364766897697395\n",
      "R-squared: 0.6011693434160483\n"
     ]
    },
    {
     "data": {
      "image/png": "[encoded data removed]",
      "text/plain": [
       "<Figure size 720x360 with 3 Axes>"
      ]
     },
     "metadata": {
      "needs_background": "light"
     },
     "output_type": "display_data"
    }
   ],
   "source": [
    "import matplotlib.colors as colors\n",
    "\n",
    "residuals = y_val - y_pred\n",
    "\n",
    "# Calculate metrics\n",
    "rmse = np.sqrt(mean_squared_error(y_val, y_pred))\n",
    "r2 = r2_score(y_val, y_pred)\n",
    "\n",
    "# Print out the metrics\n",
    "print('Root Mean Squared Error (RMSE):', rmse)\n",
    "print('R-squared:', r2)\n",
    "\n",
    "# Create a scatter plot of actual vs predicted values\n",
    "fig, ax = plt.subplots(nrows=1, ncols=2, figsize=(10,5))\n",
    "\n",
    "# Scatter plot with hist2d\n",
    "hist = ax[0].hist2d(y_val, y_pred, bins=40, cmap='Blues', norm=colors.LogNorm(vmax=1e3), )\n",
    "ax[0].set_xlabel('Actual Values')\n",
    "ax[0].set_ylabel('Predicted Values')\n",
    "ax[0].set_title('Evaluation Plot')\n",
    "ax[0].set_xlim(-5, 0.1)\n",
    "ax[0].set_ylim(-5, 0.1)\n",
    "\n",
    "ax[0].plot([-5,1], [-5,1], linewidth=2, c='k')\n",
    "# Create a colorbar for the 2D histogram\n",
    "cbar = plt.colorbar(hist[3], ax=ax[0])\n",
    "cbar.set_label('Frequency')\n",
    "\n",
    "# Set colorbar ticks to be logarithmic\n",
    "cbar.ax.yaxis.set_major_locator(plt.LogLocator(base=10))\n",
    "cbar.ax.yaxis.set_minor_locator(plt.LogLocator(base=10, subs=(0.2, 0.4, 0.6, 0.8)))\n",
    "\n",
    "# Add text box with metrics\n",
    "textstr = f'RMSE: {rmse:.4f}\\n$R^2$:     {r2:.4f}'\n",
    "props = dict(boxstyle='round', facecolor='wheat', alpha=0.5)\n",
    "ax[0].text(0.65, 0.15, textstr, transform=ax[0].transAxes, fontsize=10,\n",
    "           verticalalignment='top', bbox=props)\n",
    "\n",
    "# Create a scatter plot of residuals\n",
    "sns.scatterplot(x=y_val, y=residuals, ax=ax[1])\n",
    "ax[1].set_xlabel('Actual Values')\n",
    "ax[1].set_ylabel('Residuals')\n",
    "ax[1].set_title('Residuals Plot')\n",
    "ax[1].set_xlim(-7.5, 0.1)\n",
    "ax[1].set_ylim(-4.75, 4.75)\n",
    "ax[1].hlines(y=0, xmin=-7.5, xmax=0.1, linestyle='--', color='k')\n",
    "plt.tight_layout()\n",
    "plt.savefig(f'/net/helium/atmosdyn/freimax/figures/random_forest/IFS/tsubsi/grid_search_model_eval1_rmse_{rmse:.3f}.png',dpi=150)"
   ]
  },
  {
   "cell_type": "code",
   "execution_count": 16,
   "metadata": {},
   "outputs": [
    {
     "data": {
      "image/png": "[encoded data removed]",
      "text/plain": [
       "<Figure size 576x576 with 1 Axes>"
      ]
     },
     "metadata": {
      "needs_background": "light"
     },
     "output_type": "display_data"
    }
   ],
   "source": [
    "import numpy as np\n",
    "import scipy.stats as stats\n",
    "import matplotlib.pyplot as plt\n",
    "\n",
    "\n",
    "y_pred =y_pred\n",
    "\n",
    "# Calculate the percentiles\n",
    "y_pred_sorted = np.sort(y_pred)\n",
    "y_val_sorted = np.sort(y_val)\n",
    "\n",
    "# Generate percentiles\n",
    "nr_points = len(y_pred)\n",
    "percentiles = np.linspace(0, 100, nr_points ) \n",
    "\n",
    "# Calculate the Q-Q pairs\n",
    "q_pred = np.percentile(y_pred_sorted, percentiles)\n",
    "q_val = np.percentile(y_val_sorted, percentiles)\n",
    "# Generate the plot\n",
    "plt.figure(figsize=(8,8))\n",
    "plt.scatter(q_pred, q_val, color='k', s=10, alpha=0.5)\n",
    "\n",
    "\n",
    "# Mark median and other percentiles\n",
    "p01_pred = np.percentile(q_pred, 0.1)\n",
    "p01_val = np.percentile(q_val, 0.1)\n",
    "plt.scatter(p01_pred, p01_val, color='white', edgecolor='k', label='0.1 percentile', s=100, zorder=5, alpha=0.95)\n",
    "\n",
    "p1_pred = np.percentile(q_pred, 1)\n",
    "p1_val = np.percentile(q_val, 1)\n",
    "plt.scatter(p1_pred, p1_val, color='yellow', edgecolor='k', label='1st percentile', s=100, zorder=5, alpha=0.95)\n",
    "\n",
    "p10_pred = np.percentile(q_pred, 10)\n",
    "p10_val = np.percentile(q_val, 10)\n",
    "plt.scatter(p10_pred, p10_val, color='red', edgecolor='k', label='10th percentile', s=100, zorder=5, alpha=0.95)\n",
    "\n",
    "p25_pred = np.percentile(q_pred, 25)\n",
    "p25_val = np.percentile(q_val, 25)\n",
    "plt.scatter(p25_pred, p25_val, color='green', edgecolor='k', label='25th percentile', s=100, zorder=5, alpha=0.95)\n",
    "\n",
    "median_pred = np.median(q_pred)\n",
    "median_val = np.median(q_val)\n",
    "plt.scatter(median_pred, median_val, color='blue', edgecolor='k', label='median', s=100, zorder=5, alpha=0.95)\n",
    "\n",
    "\n",
    "\n",
    "# Diagonal line\n",
    "plt.plot([np.min((q_pred.min(),q_val.min())), np.max((q_pred.max(),q_val.max()))], \n",
    "         [np.min((q_pred.min(),q_val.min())), np.max((q_pred.max(),q_val.max()))], 'r--')\n",
    "\n",
    "plt.xlabel('Quantiles of predicted distribution')\n",
    "plt.ylabel('Quantiles of actual distribution')\n",
    "plt.title(f'Q-Q plot: tsubsi (Number of points: {nr_points:2.1e})')\n",
    "plt.grid(True)\n",
    "plt.legend() \n",
    "plt.show()\n"
   ]
  },
  {
   "cell_type": "code",
   "execution_count": null,
   "metadata": {},
   "outputs": [],
   "source": []
  },
  {
   "attachments": {},
   "cell_type": "markdown",
   "metadata": {},
   "source": [
    "---\n",
    "---\n",
    "## Try Regression model after classification model"
   ]
  },
  {
   "cell_type": "code",
   "execution_count": 17,
   "metadata": {},
   "outputs": [],
   "source": [
    "def apply_cooling_thr(X,y, thr):\n",
    "    X_cutoff = X[y <= thr]\n",
    "    y_cutoff = y[y <= thr]\n",
    "    assert X_cutoff.shape[0] == y_cutoff.shape[0]\n",
    "    print(f'New shape:\\t{X_cutoff.shape }\\nOld shape:\\t{X.shape}')\n",
    "    return X_cutoff, y_cutoff"
   ]
  },
  {
   "cell_type": "code",
   "execution_count": 18,
   "metadata": {},
   "outputs": [
    {
     "name": "stdout",
     "output_type": "stream",
     "text": [
      "Training Set\n",
      "New shape:\t(36465512, 5)\n",
      "Old shape:\t(55274161, 5)\n",
      "Validation Set\n",
      "New shape:\t(4007998, 5)\n",
      "Old shape:\t(6024117, 5)\n"
     ]
    }
   ],
   "source": [
    "tsubsi_thr = -0.001\n",
    "\n",
    "print('Training Set')\n",
    "X_train_cutoff, y_train_cutoff = apply_cooling_thr(X_train, y_train, tsubsi_thr)\n",
    "print('Validation Set')\n",
    "X_val_cutoff, y_val_cutoff = apply_cooling_thr(X_val, y_val, tsubsi_thr)"
   ]
  },
  {
   "cell_type": "code",
   "execution_count": 23,
   "metadata": {},
   "outputs": [
    {
     "name": "stdout",
     "output_type": "stream",
     "text": [
      "\n",
      "\n",
      "Start with model tsubsi cut-off at -1\n",
      "Training Set:\n",
      "New shape:\t(151673, 5)\n",
      "Old shape:\t(55274161, 5)\n",
      "Validation Set\n",
      "New shape:\t(17549, 5)\n",
      "Old shape:\t(6024117, 5)\n",
      "\n",
      "Start Grid-Search:\n",
      "Model   1 of   1 | n_estimators = 500 | max_depth = 30 | max_features =  3 | min_samples_split = 40| min_samples_leaf = 1 | criterion = squared_error | RMSE: 0.51247  (NEW BEST)\n",
      "\n",
      "Best parameters: {'n_estimators': 500, 'max_depth': 30, 'max_features': 3, 'min_samples_split': 40}\n",
      "Best MSE: 0.262625468714412  -->  Best RMSE: 0.5124699685975872\n",
      "\n",
      "\n",
      "Start with model tsubsi cut-off at -0.1\n",
      "Training Set:\n",
      "New shape:\t(6981472, 5)\n",
      "Old shape:\t(55274161, 5)\n",
      "Validation Set\n",
      "New shape:\t(814766, 5)\n",
      "Old shape:\t(6024117, 5)\n",
      "\n",
      "Start Grid-Search:\n",
      "Model   1 of   1 | n_estimators = 500 | max_depth = 30 | max_features =  3 | min_samples_split = 40| min_samples_leaf = 1 | criterion = squared_error | RMSE: 0.18525  (NEW BEST)\n",
      "\n",
      "Best parameters: {'n_estimators': 500, 'max_depth': 30, 'max_features': 3, 'min_samples_split': 40}\n",
      "Best MSE: 0.034318112812893285  -->  Best RMSE: 0.18525148531899355\n",
      "\n",
      "\n",
      "Start with model tsubsi cut-off at -0.01\n",
      "Training Set:\n",
      "New shape:\t(24298069, 5)\n",
      "Old shape:\t(55274161, 5)\n",
      "Validation Set\n",
      "New shape:\t(2741518, 5)\n",
      "Old shape:\t(6024117, 5)\n",
      "\n",
      "Start Grid-Search:\n",
      "Model   1 of   1 | n_estimators = 500 | max_depth = 30 | max_features =  3 | min_samples_split = 40| min_samples_leaf = 1 | criterion = squared_error | RMSE: 0.11744  (NEW BEST)\n",
      "\n",
      "Best parameters: {'n_estimators': 500, 'max_depth': 30, 'max_features': 3, 'min_samples_split': 40}\n",
      "Best MSE: 0.013792554712757248  -->  Best RMSE: 0.11744170772241541\n",
      "\n",
      "\n",
      "Start with model tsubsi cut-off at -0.001\n",
      "Training Set:\n",
      "New shape:\t(36465512, 5)\n",
      "Old shape:\t(55274161, 5)\n",
      "Validation Set\n",
      "New shape:\t(4007998, 5)\n",
      "Old shape:\t(6024117, 5)\n",
      "\n",
      "Start Grid-Search:\n",
      "Model   1 of   1 | n_estimators = 500 | max_depth = 30 | max_features =  3 | min_samples_split = 40| min_samples_leaf = 1 | criterion = squared_error | RMSE: 0.09957  (NEW BEST)\n",
      "\n",
      "Best parameters: {'n_estimators': 500, 'max_depth': 30, 'max_features': 3, 'min_samples_split': 40}\n",
      "Best MSE: 0.00991439543006245  -->  Best RMSE: 0.09957105719064376\n",
      "\n",
      "\n",
      "Start with model tsubsi cut-off at -0.0001\n",
      "Training Set:\n",
      "New shape:\t(44511235, 5)\n",
      "Old shape:\t(55274161, 5)\n",
      "Validation Set\n",
      "New shape:\t(4854206, 5)\n",
      "Old shape:\t(6024117, 5)\n",
      "\n",
      "Start Grid-Search:\n",
      "Model   1 of   1 | n_estimators = 500 | max_depth = 30 | max_features =  3 | min_samples_split = 40| min_samples_leaf = 1 | criterion = squared_error | RMSE: 0.09144  (NEW BEST)\n",
      "\n",
      "Best parameters: {'n_estimators': 500, 'max_depth': 30, 'max_features': 3, 'min_samples_split': 40}\n",
      "Best MSE: 0.00836136783713409  -->  Best RMSE: 0.09144051529346327\n",
      "\n",
      "\n",
      "Start with model tsubsi cut-off at -1e-05\n",
      "Training Set:\n",
      "New shape:\t(49712054, 5)\n",
      "Old shape:\t(55274161, 5)\n",
      "Validation Set\n",
      "New shape:\t(5420201, 5)\n",
      "Old shape:\t(6024117, 5)\n",
      "\n",
      "Start Grid-Search:\n",
      "Model   1 of   1 | n_estimators = 500 | max_depth = 30 | max_features =  3 | min_samples_split = 40| min_samples_leaf = 1 | criterion = squared_error | RMSE: 0.08727  (NEW BEST)\n",
      "\n",
      "Best parameters: {'n_estimators': 500, 'max_depth': 30, 'max_features': 3, 'min_samples_split': 40}\n",
      "Best MSE: 0.007615361382319845  -->  Best RMSE: 0.08726603796620909\n"
     ]
    }
   ],
   "source": [
    "# Define the hyperparameters for grid search\n",
    "param_grid = {\n",
    "    'n_estimators': [500],\n",
    "    'max_depth': [30],\n",
    "    'max_features': [3],\n",
    "    'min_samples_split': [40],\n",
    "    'min_samples_leaf':[1],\n",
    "    'criterion': ['squared_error']\n",
    "}\n",
    "\n",
    "cutoff_models = []\n",
    "cutoff_best_params = []\n",
    "thr_list = [-1, -0.1, -0.01, -0.001, -0.0001, -0.00001]\n",
    "\n",
    "for thr in thr_list:\n",
    "    print(f'\\n\\nStart with model tsubsi cut-off at {thr}')\n",
    "    print('Training Set:')\n",
    "    X_train_cutoff, y_train_cutoff = apply_cooling_thr(X_train, y_train, thr)\n",
    "    print('Validation Set')\n",
    "    X_val_cutoff, y_val_cutoff = apply_cooling_thr(X_val, y_val, thr)\n",
    "    # Call the function\n",
    "    best_model, best_params = grid_search_with_validation_set(X_train=X_train_cutoff,\n",
    "                                                                y_train=y_train_cutoff, \n",
    "                                                                X_val=X_val_cutoff, \n",
    "                                                                y_val=y_val_cutoff, \n",
    "                                                                param_grid=param_grid,\n",
    "                                                                save_name=f'cutoff_{thr}_tsubsi'\n",
    "                                                                )\n",
    "    cutoff_models.append(best_model)\n",
    "    cutoff_best_params.append(best_params)"
   ]
  },
  {
   "cell_type": "code",
   "execution_count": 24,
   "metadata": {},
   "outputs": [
    {
     "data": {
      "text/plain": [
       "[{'n_estimators': 500,\n",
       "  'max_depth': 30,\n",
       "  'max_features': 3,\n",
       "  'min_samples_split': 40},\n",
       " {'n_estimators': 500,\n",
       "  'max_depth': 30,\n",
       "  'max_features': 3,\n",
       "  'min_samples_split': 40},\n",
       " {'n_estimators': 500,\n",
       "  'max_depth': 30,\n",
       "  'max_features': 3,\n",
       "  'min_samples_split': 40},\n",
       " {'n_estimators': 500,\n",
       "  'max_depth': 30,\n",
       "  'max_features': 3,\n",
       "  'min_samples_split': 40},\n",
       " {'n_estimators': 500,\n",
       "  'max_depth': 30,\n",
       "  'max_features': 3,\n",
       "  'min_samples_split': 40},\n",
       " {'n_estimators': 500,\n",
       "  'max_depth': 30,\n",
       "  'max_features': 3,\n",
       "  'min_samples_split': 40}]"
      ]
     },
     "execution_count": 24,
     "metadata": {},
     "output_type": "execute_result"
    }
   ],
   "source": [
    "\n",
    "cutoff_best_params"
   ]
  },
  {
   "cell_type": "code",
   "execution_count": 52,
   "metadata": {},
   "outputs": [
    {
     "name": "stdout",
     "output_type": "stream",
     "text": [
      "Root Mean Squared Error (RMSE): 0.099\n",
      "R-squared: 0.595\n"
     ]
    },
    {
     "data": {
      "image/png": "[encoded data removed]",
      "text/plain": [
       "<Figure size 720x360 with 3 Axes>"
      ]
     },
     "metadata": {
      "needs_background": "light"
     },
     "output_type": "display_data"
    }
   ],
   "source": [
    "import matplotlib.colors as colors\n",
    "\n",
    "residuals = y_val_cutoff - y_pred_cutoff\n",
    "\n",
    "# Calculate metrics\n",
    "rmse = np.sqrt(mean_squared_error(y_val_cutoff, y_pred_cutoff))\n",
    "r2 = r2_score(y_val_cutoff, y_pred_cutoff)\n",
    "\n",
    "# Print out the metrics\n",
    "print(f'Root Mean Squared Error (RMSE): {rmse:.3f}')\n",
    "print(f'R-squared: {r2:.3f}')\n",
    "\n",
    "# Create a scatter plot of actual vs predicted values\n",
    "fig, ax = plt.subplots(nrows=1, ncols=2, figsize=(10,5))\n",
    "\n",
    "# Scatter plot with hist2d\n",
    "hist = ax[0].hist2d(y_val_cutoff, y_pred_cutoff, bins=40, cmap='Blues', norm=colors.LogNorm(vmax=1e3), )\n",
    "ax[0].set_xlabel('Actual Values')\n",
    "ax[0].set_ylabel('Predicted Values')\n",
    "ax[0].set_title('Evaluation Plot')\n",
    "ax[0].set_xlim(-5, 0.1)\n",
    "ax[0].set_ylim(-5, 0.1)\n",
    "\n",
    "ax[0].plot([-5,1], [-5,1], linewidth=2, c='k')\n",
    "# Create a colorbar for the 2D histogram\n",
    "cbar = plt.colorbar(hist[3], ax=ax[0])\n",
    "cbar.set_label('Frequency')\n",
    "\n",
    "# Set colorbar ticks to be logarithmic\n",
    "cbar.ax.yaxis.set_major_locator(plt.LogLocator(base=10))\n",
    "cbar.ax.yaxis.set_minor_locator(plt.LogLocator(base=10, subs=(0.2, 0.4, 0.6, 0.8)))\n",
    "\n",
    "# Add text box with metrics\n",
    "textstr = f'RMSE: {rmse:.4f}\\n$R^2$:     {r2:.4f}'\n",
    "props = dict(boxstyle='round', facecolor='wheat', alpha=0.5)\n",
    "ax[0].text(0.65, 0.15, textstr, transform=ax[0].transAxes, fontsize=10,\n",
    "           verticalalignment='top', bbox=props)\n",
    "\n",
    "# Create a scatter plot of residuals\n",
    "sns.scatterplot(x=y_val_cutoff, y=residuals, ax=ax[1])\n",
    "ax[1].set_xlabel('Actual Values')\n",
    "ax[1].set_ylabel('Residuals')\n",
    "ax[1].set_title('Residuals (y_pred - y)')\n",
    "ax[1].set_xlim(-7.5, 0.1)\n",
    "ax[1].set_ylim(-4.75, 4.75)\n",
    "ax[1].hlines(y=0, xmin=-7.5, xmax=0.1, linestyle='--', color='k')\n",
    "plt.tight_layout()\n",
    "plt.savefig(f'/home/freimax/msc_thesis/figures/random_forest/IFS/tsubsi/grid_search_model_cutoff_rmse_{rmse:.3f}.png',dpi=150)"
   ]
  },
  {
   "cell_type": "code",
   "execution_count": null,
   "metadata": {},
   "outputs": [],
   "source": []
  },
  {
   "attachments": {},
   "cell_type": "markdown",
   "metadata": {},
   "source": [
    "---\n",
    "### Test accuracy of baseline model with threshold cut-oofs"
   ]
  },
  {
   "cell_type": "code",
   "execution_count": 74,
   "metadata": {},
   "outputs": [
    {
     "name": "stdout",
     "output_type": "stream",
     "text": [
      "New shape:\t(814766, 5)\n",
      "Old shape:\t(6024117, 5)\n"
     ]
    }
   ],
   "source": [
    "X_val_cutoff1, y_val_cutoff1 = apply_cooling_thr(X_val, y_val, -0.1)"
   ]
  },
  {
   "cell_type": "code",
   "execution_count": 75,
   "metadata": {},
   "outputs": [],
   "source": [
    "y_pred_cutoff1 = best_model.predict(X_val_cutoff1)\n",
    "y_pred_full = best_model.predict(X_val)"
   ]
  },
  {
   "cell_type": "code",
   "execution_count": 76,
   "metadata": {},
   "outputs": [],
   "source": [
    "y_val_foo  = y_val[y_val<=-0.1]              ## Note, this is the same as y_val_cutoff1\n",
    "y_pred_foo = y_pred_full[y_val<=-0.1]\n"
   ]
  },
  {
   "cell_type": "code",
   "execution_count": 91,
   "metadata": {},
   "outputs": [
    {
     "name": "stdout",
     "output_type": "stream",
     "text": [
      "Full data preds: (6024117,)\n",
      "Cutoff data preds: (814766,)\n"
     ]
    }
   ],
   "source": [
    "print(f'Full data preds: {y_pred_full.shape}')\n",
    "print(f'Cutoff data preds: {y_pred_cutoff1.shape}')"
   ]
  },
  {
   "cell_type": "code",
   "execution_count": 92,
   "metadata": {},
   "outputs": [
    {
     "name": "stdout",
     "output_type": "stream",
     "text": [
      "Arrays are allclose\n"
     ]
    }
   ],
   "source": [
    "## Check if arryas are allclose\n",
    "if np.allclose(y_pred_cutoff1, y_pred_foo):\n",
    "    print('Arrays are allclose')"
   ]
  },
  {
   "cell_type": "code",
   "execution_count": null,
   "metadata": {},
   "outputs": [],
   "source": []
  },
  {
   "cell_type": "code",
   "execution_count": 28,
   "metadata": {},
   "outputs": [
    {
     "name": "stdout",
     "output_type": "stream",
     "text": [
      "Predict and evaluate model with threshold: -1:\n",
      "New shape:\t(17549, 5)\n",
      "Old shape:\t(6024117, 5)\n",
      "Predict and evaluate model with threshold: -0.1:\n",
      "New shape:\t(814766, 5)\n",
      "Old shape:\t(6024117, 5)\n",
      "Predict and evaluate model with threshold: -0.01:\n",
      "New shape:\t(2741518, 5)\n",
      "Old shape:\t(6024117, 5)\n",
      "Predict and evaluate model with threshold: -0.001:\n",
      "New shape:\t(4007998, 5)\n",
      "Old shape:\t(6024117, 5)\n",
      "Predict and evaluate model with threshold: -0.0001:\n",
      "New shape:\t(4854206, 5)\n",
      "Old shape:\t(6024117, 5)\n",
      "Predict and evaluate model with threshold: -1e-05:\n",
      "New shape:\t(5420201, 5)\n",
      "Old shape:\t(6024117, 5)\n"
     ]
    }
   ],
   "source": [
    "y_preds_cutoff = [] \n",
    "y_val_cutoff = []\n",
    "rmse_cutoffs = []\n",
    "r2_cutoffs = []\n",
    "\n",
    "thr_list = [-1, -0.1, -0.01, -0.001, -0.0001, -0.00001]\n",
    "for i, thr in enumerate(thr_list):\n",
    "    print(f'Predict and evaluate model with threshold: {thr}:')\n",
    "    X_val_cutoff, y_validation_cutoff = apply_cooling_thr(X_val, y_val, thr)\n",
    "    \n",
    "    y_val_cutoff.append(y_validation_cutoff)\n",
    "    \n",
    "    y_pred_cutoff = cutoff_models[i].predict(X_val_cutoff)\n",
    "    y_preds_cutoff.append(y_pred_cutoff)\n",
    "\n",
    "    rmse_cutoffs.append( np.sqrt(mean_squared_error(y_validation_cutoff, y_pred_cutoff)))\n",
    "    r2_cutoffs.append(r2_score(y_validation_cutoff, y_pred_cutoff))\n"
   ]
  },
  {
   "cell_type": "code",
   "execution_count": 41,
   "metadata": {},
   "outputs": [
    {
     "name": "stdout",
     "output_type": "stream",
     "text": [
      "Prediction with cut-off model at -1\n",
      "Prediction with cut-off model at -0.1\n",
      "Prediction with cut-off model at -0.01\n",
      "Prediction with cut-off model at -0.001\n",
      "Prediction with cut-off model at -0.0001\n",
      "Prediction with cut-off model at -1e-05\n"
     ]
    }
   ],
   "source": [
    "preds_cutof_on_fulldata = []\n",
    "rmse_co_fulldata = []\n",
    "r2_co_fulldata = []\n",
    "\n",
    "\n",
    "color_list = ['#000000', '#404040', '#808080', '#C0C0C0', '#FFFFFF']\n",
    "for i, thr in enumerate(thr_list):\n",
    "    print(f'Prediction with cut-off model at {thr}')\n",
    "    pred = cutoff_models[i].predict(X_val)\n",
    "    \n",
    "    preds_cutof_on_fulldata.append(pred)\n",
    "    rmse_co_fulldata.append( np.sqrt(mean_squared_error(y_val, pred)) )\n",
    "    r2_co_fulldata.append( r2_score(y_val, pred) )"
   ]
  },
  {
   "cell_type": "code",
   "execution_count": 34,
   "metadata": {},
   "outputs": [
    {
     "name": "stdout",
     "output_type": "stream",
     "text": [
      "Done with step 100 of 1100\n",
      "Done with step 200 of 1100\n",
      "Done with step 300 of 1100\n",
      "Done with step 400 of 1100\n",
      "Done with step 500 of 1100\n",
      "Done with step 600 of 1100\n",
      "Done with step 700 of 1100\n",
      "Done with step 800 of 1100\n",
      "Done with step 900 of 1100\n",
      "Done with step 1000 of 1100\n",
      "Done with step 1100 of 1100\n"
     ]
    }
   ],
   "source": [
    "threshold_list = np.arange(-0.00001,-1.1, -0.001)#[-0.1, -0.01, -0.005, -0.001, -0.0001]\n",
    "\n",
    "rmse_list =[]\n",
    "r2_list = []\n",
    "\n",
    "for i,thr in enumerate(threshold_list):\n",
    "    y_val_cutoff = y_val[y_val<=thr] \n",
    "    y_pred_cutoff = y_pred[y_val<=thr]\n",
    "\n",
    "    rmse_list.append(np.sqrt(mean_squared_error(y_val_cutoff, y_pred_cutoff)))\n",
    "    r2_list.append(r2_score(y_val_cutoff, y_pred_cutoff))\n",
    "    \n",
    "    if (i+1) % 100 == 0:\n",
    "        print(f'Done with step {i+1} of {threshold_list.shape[0]}')\n",
    "    "
   ]
  },
  {
   "cell_type": "code",
   "execution_count": 55,
   "metadata": {},
   "outputs": [
    {
     "data": {
      "image/png": "[encoded data removed]",
      "text/plain": [
       "<Figure size 864x360 with 2 Axes>"
      ]
     },
     "metadata": {
      "needs_background": "light"
     },
     "output_type": "display_data"
    }
   ],
   "source": [
    "import matplotlib.ticker as ticker\n",
    "\n",
    "fig, ax = plt.subplots(nrows=1, ncols=2, figsize=(12, 5))\n",
    "fig.suptitle('Adjusted Model Accuracy based on cooling thresholds', fontsize=12)\n",
    "\n",
    "ax[0].plot(-threshold_list, rmse_list, c='#1f77b4', label='Model performance on thr-data, trained on full data')\n",
    "#ax[0].invert_xaxis()\n",
    "ax[0].set_xlabel('cutoff threshold [K/hr]')\n",
    "ax[0].set_ylabel('RMSE', c='#1f77b4', fontsize=10)\n",
    "# ax[0].set_yscale('log')\n",
    "ax[0].set_xscale('log')\n",
    "ax[0].set_ylim(0.01, 0.4)\n",
    "ax[0].set_xlim(7.1e-6, 0.15)\n",
    "\n",
    "ax[1].plot(-threshold_list, r2_list, c='#ff7f0e')\n",
    "#ax[1].invert_xaxis()\n",
    "ax[1].set_ylabel(r'$R^2$', c='#ff7f0e', fontsize=10)\n",
    "ax[1].set_xlabel('cutoff threshold [K/hr]')\n",
    "ax[1].set_xscale('log')\n",
    "ax[1].set_xlim(7.1e-6, 0.15)\n",
    "ax[1].set_ylim(0.2, 0.7)\n",
    "\n",
    "ax[0].scatter([-x for x in thr_list], rmse_cutoffs, c='k', label='Model performance trained on thr-data')\n",
    "ax[1].scatter([-x for x in thr_list], r2_cutoffs, c='k')\n",
    "\n",
    "ax[0].scatter([-x for x in thr_list], rmse_co_fulldata, c='red', label='Model performance on full data, trained on thr-data')\n",
    "ax[1].scatter([-x for x in thr_list], r2_co_fulldata, c='red')\n",
    "\n",
    "ax[0].legend()\n",
    "\n",
    "# Adding grid lines\n",
    "for axes in ax:\n",
    "    if axes.get_xscale() == 'log':\n",
    "        axes.grid(True, which='both', axis='both', linestyle='--', linewidth=0.5)\n",
    "        axes.xaxis.set_major_locator(ticker.LogLocator(base=10.0, numticks=15))\n",
    "        axes.xaxis.set_minor_locator(ticker.LogLocator(base=10.0, numticks=150))\n",
    "    else:\n",
    "        axes.grid(True, which='major', axis='both', linestyle='--', linewidth=0.5)\n",
    "\n",
    "plt.show()"
   ]
  },
  {
   "cell_type": "code",
   "execution_count": null,
   "metadata": {},
   "outputs": [],
   "source": []
  },
  {
   "cell_type": "code",
   "execution_count": null,
   "metadata": {},
   "outputs": [],
   "source": []
  }
 ],
 "metadata": {
  "kernelspec": {
   "display_name": "maxpy3_2022",
   "language": "python",
   "name": "python3"
  },
  "language_info": {
   "codemirror_mode": {
    "name": "ipython",
    "version": 3
   },
   "file_extension": ".py",
   "mimetype": "text/x-python",
   "name": "python",
   "nbconvert_exporter": "python",
   "pygments_lexer": "ipython3",
   "version": "3.9.10"
  },
  "orig_nbformat": 4
 },
 "nbformat": 4,
 "nbformat_minor": 2
}

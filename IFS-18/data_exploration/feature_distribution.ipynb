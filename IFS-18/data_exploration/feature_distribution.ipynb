{
 "cells": [
  {
   "cell_type": "code",
   "execution_count": 1,
   "metadata": {},
   "outputs": [],
   "source": [
    "%load_ext autoreload\n",
    "%autoreload 2\n",
    "\n",
    "## Load modules\n",
    "import xarray as xr\n",
    "import pandas as pd\n",
    "import numpy as np\n",
    "import matplotlib.pyplot as plt\n",
    "from matplotlib.gridspec import GridSpec\n",
    "\n",
    "\n",
    "from sklearn.model_selection import train_test_split\n",
    "from sklearn.ensemble import RandomForestClassifier\n",
    "from sklearn.model_selection import GridSearchCV\n",
    "from sklearn.metrics import classification_report, confusion_matrix\n",
    "\n",
    "import pickle\n",
    "import sys\n",
    "sys.path.append('/home/freimax/msc_thesis/scripts/helpers/')\n",
    "from data_preprocessing_helpers import get_lonlatbox\n",
    "sys.path.append('/home/freimax/msc_thesis/scripts/plotting_functions/')\n",
    "from plot_functions import plot_cross_section, draw_color_blocks, add_inset_plot\n",
    "sys.path.append('/home/freimax/msc_thesis/scripts/random_forest/')\n",
    "import rf_functions\n",
    "\n",
    "import seaborn as sns\n",
    "from sklearn.model_selection import cross_val_score\n",
    "from sklearn.ensemble import RandomForestClassifier\n",
    "from sklearn.metrics import f1_score, make_scorer"
   ]
  },
  {
   "cell_type": "code",
   "execution_count": 11,
   "metadata": {},
   "outputs": [],
   "source": [
    "## Load Data\n",
    "lonrange = [135,-165]\n",
    "latrange = [20,70]\n",
    "\n",
    "\n",
    "path = '/net/thermo/atmosdyn2/atroman/PACaccu/cdf'\n",
    "\n",
    "ds_p_all = xr.open_mfdataset(f'{path}/P*')\n",
    "ds_p_all = ds_p_all.squeeze('lev2')\n",
    "da_rh = xr.open_dataset('/home/freimax/msc_thesis/data/case_study_ra19/model_level_coord/RH_ifs.nc')\n",
    "\n",
    "## Lonlatbox  -- apply to model-level data\n",
    "ds_p = get_lonlatbox(ds_p_all, lon_range=lonrange, lat_range=latrange)\n",
    "ds_p['tsubsi']  = ds_p['tsubs'] + ds_p['tsubi']\n",
    "\n",
    "ds_p['tmeltsi'] = ds_p['tmelts']+ ds_p['tmelti']\n",
    "ds_p['SIWC']    = ds_p['SWC']+ ds_p['IWC']\n",
    "ds_p['RH_ifs']  = da_rh['RH_ifs']"
   ]
  },
  {
   "cell_type": "code",
   "execution_count": 54,
   "metadata": {},
   "outputs": [],
   "source": [
    "## Filter data\n",
    "\n",
    "# Drop all SIWC values = 0 for sublimation field\n",
    "da_sub_filt = ds_p['tsubsi'].where(ds_p['SIWC'] != 0, drop=True)\n"
   ]
  },
  {
   "cell_type": "code",
   "execution_count": 55,
   "metadata": {},
   "outputs": [],
   "source": [
    "da_melt_filt = ds_p['tmeltsi'].where((ds_p['SIWC'] != 0) & (ds_p['T'] < 0), drop=True)\n",
    "da_ev_filt = ds_p['tevr'].where((ds_p['RWC'] != 0) & (ds_p['T'] > 0), drop=True)"
   ]
  },
  {
   "cell_type": "code",
   "execution_count": 57,
   "metadata": {},
   "outputs": [
    {
     "ename": "IndexError",
     "evalue": "too many indices for array: array is 1-dimensional, but 4 were indexed",
     "output_type": "error",
     "traceback": [
      "\u001b[0;31m---------------------------------------------------------------------------\u001b[0m",
      "\u001b[0;31mIndexError\u001b[0m                                Traceback (most recent call last)",
      "\u001b[1;32m/home/freimax/msc_thesis/scripts/data_exploration/feature_distribution.ipynb Cell 5\u001b[0m in \u001b[0;36m<cell line: 8>\u001b[0;34m()\u001b[0m\n\u001b[1;32m      <a href='vscode-notebook-cell:/home/freimax/msc_thesis/scripts/data_exploration/feature_distribution.ipynb#W2sZmlsZQ%3D%3D?line=4'>5</a>\u001b[0m array_melt_filt \u001b[39m=\u001b[39m array_melt_filt[\u001b[39m~\u001b[39mnp\u001b[39m.\u001b[39misnan(array_melt_filt)]\n\u001b[1;32m      <a href='vscode-notebook-cell:/home/freimax/msc_thesis/scripts/data_exploration/feature_distribution.ipynb#W2sZmlsZQ%3D%3D?line=6'>7</a>\u001b[0m array_ev_filt \u001b[39m=\u001b[39m da_ev_filt\u001b[39m.\u001b[39mvalues\u001b[39m.\u001b[39mflatten()\n\u001b[0;32m----> <a href='vscode-notebook-cell:/home/freimax/msc_thesis/scripts/data_exploration/feature_distribution.ipynb#W2sZmlsZQ%3D%3D?line=7'>8</a>\u001b[0m array_ev_filt \u001b[39m=\u001b[39m array_ev_filt[\u001b[39m~\u001b[39;49mnp\u001b[39m.\u001b[39;49misnan(da_ev_filt)]\n",
      "\u001b[0;31mIndexError\u001b[0m: too many indices for array: array is 1-dimensional, but 4 were indexed"
     ]
    }
   ],
   "source": [
    "array_sub_filt = da_sub_filt.values.flatten()\n",
    "array_sub_filt = array_sub_filt[~np.isnan(array_sub_filt)]\n",
    "\n",
    "array_melt_filt = da_melt_filt.values.flatten()\n",
    "array_melt_filt = array_melt_filt[~np.isnan(array_melt_filt)]\n"
   ]
  },
  {
   "cell_type": "code",
   "execution_count": 59,
   "metadata": {},
   "outputs": [],
   "source": [
    "array_ev_filt = da_ev_filt.values.flatten()\n",
    "array_ev_filt = array_ev_filt[~np.isnan(array_ev_filt)]"
   ]
  },
  {
   "cell_type": "code",
   "execution_count": 60,
   "metadata": {},
   "outputs": [],
   "source": [
    "array_sub_filt2  = array_sub_filt[array_sub_filt < -0.001]\n",
    "array_melt_filt2 = array_melt_filt[array_melt_filt < -0.001]\n",
    "array_evap_filt2 = array_ev_filt[array_ev_filt < -0.001]"
   ]
  },
  {
   "cell_type": "code",
   "execution_count": 61,
   "metadata": {},
   "outputs": [],
   "source": [
    "# Randomly subsample 10000 elements from the array\n",
    "sub_subsample  = np.random.choice(array_sub_filt2, size=int(array_sub_filt2.shape[0]/5), replace=False)\n",
    "melt_subsample = np.random.choice(array_melt_filt2, size=int(array_melt_filt2.shape[0]/5), replace=False)\n",
    "evap_subsample = np.random.choice(array_evap_filt2, size=int(array_evap_filt2.shape[0]/5), replace=False)"
   ]
  },
  {
   "cell_type": "code",
   "execution_count": 65,
   "metadata": {},
   "outputs": [
    {
     "data": {
      "image/png": "[encoded data removed]",
      "text/plain": [
       "<Figure size 1296x432 with 3 Axes>"
      ]
     },
     "metadata": {
      "needs_background": "light"
     },
     "output_type": "display_data"
    }
   ],
   "source": [
    "subsamples = [sub_subsample, melt_subsample, evap_subsample] \n",
    "\n",
    "def plot_histograms(data_list, title_list, bins=50):\n",
    "    fig, axs = plt.subplots(1, 3, figsize=(18, 6), sharey=True) # Adjust the size as needed\n",
    "\n",
    "    for i, data in enumerate(data_list):\n",
    "        axs[i].hist(data, bins=bins, color='blue', alpha=0.7, log=True)\n",
    "        axs[i].set_xlim(-0.001, -4)\n",
    "        axs[i].set_title(title_list[i])\n",
    "        axs[i].set_xlabel('Cooling [K/hr]')\n",
    "        axs[i].set_ylabel('Frequency')\n",
    "\n",
    "    plt.tight_layout()\n",
    "    plt.show()\n",
    "\n",
    "plot_histograms(subsamples, title_list=['tsubsi', 'tmeltsi', 'tevr'])"
   ]
  },
  {
   "cell_type": "code",
   "execution_count": null,
   "metadata": {},
   "outputs": [],
   "source": []
  }
 ],
 "metadata": {
  "kernelspec": {
   "display_name": "Python 3",
   "language": "python",
   "name": "python3"
  },
  "language_info": {
   "codemirror_mode": {
    "name": "ipython",
    "version": 3
   },
   "file_extension": ".py",
   "mimetype": "text/x-python",
   "name": "python",
   "nbconvert_exporter": "python",
   "pygments_lexer": "ipython3",
   "version": "3.9.10"
  },
  "orig_nbformat": 4
 },
 "nbformat": 4,
 "nbformat_minor": 2
}

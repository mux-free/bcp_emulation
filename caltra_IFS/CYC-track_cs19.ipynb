{
 "cells": [
  {
   "attachments": {},
   "cell_type": "markdown",
   "metadata": {},
   "source": [
    "### Goals of this script:\n",
    "- Find a reasonable box around the cyclone centre for all timesteps (first static, then dynamic and then maybe variable).\n",
    "- Integrate all below-cloud-porcesses that happen in that box (individual and sum of all)\n",
    "- Create plots (c.f. Joos, Wernli 12 fig.5) "
   ]
  },
  {
   "cell_type": "code",
   "execution_count": 13,
   "metadata": {},
   "outputs": [],
   "source": [
    "## Import modules\n",
    "import numpy as np \n",
    "import pandas as pd\n",
    "import matplotlib.pyplot as plt \n",
    "import xarray as xr \n",
    "import pytz\n",
    "import glob\n",
    "\n",
    "\n",
    "import sys\n",
    "sys.path.append('/home/freimax/msc_thesis/scripts/helpers/')\n",
    "import data_preprocessing_helpers "
   ]
  },
  {
   "cell_type": "code",
   "execution_count": null,
   "metadata": {},
   "outputs": [],
   "source": []
  },
  {
   "cell_type": "code",
   "execution_count": 11,
   "metadata": {},
   "outputs": [],
   "source": [
    "## Import data\n",
    "# file_path = '/net/thermo/atmosdyn2/atroman/PACaccu/cdf'\n",
    "file_path = '/net/helium/atmosdyn/freimax/data_msc/IFS-17/cdf'\n",
    "\n",
    "# Load date of maximum intensity \n",
    "ds_p = xr.open_dataset(f'{file_path}/P20170410_17')\n",
    "ds_p = ds_p.squeeze()"
   ]
  },
  {
   "cell_type": "code",
   "execution_count": null,
   "metadata": {},
   "outputs": [],
   "source": []
  },
  {
   "cell_type": "code",
   "execution_count": 5,
   "metadata": {},
   "outputs": [],
   "source": [
    "## Choose timeframe of days that will be considered\n",
    "# ds_p_d2 = ds_p.sel(time=slice('20170410-00', '20170410-11'))\n",
    "# ds_p_d3 = ds_p.sel(time=slice('20170410-12', '20170411-12'))\n",
    "# ds_p_d = ds_p.sel(time=slice('20170410-00', '20170411-12'))\n",
    "\n",
    "\n",
    "\n",
    "lonlat_d = [150,180, 40,60] #lonmin, lonmax, latmin, latmax\n",
    "\n",
    "\n",
    "\n",
    "# ds_p_d_box = ds_p_d2.sel(lon=slice(lonlat_d[0], lonlat_d[1]), lat=slice(lonlat_d[2], lonlat_d[3]))\n",
    "# slp_lonmin_d, slp_latmin_d = get_SLPmin_coords(ds_p_d_box)\n",
    "# assert len(ds_p_d1.time.values) + len(ds_p_d2.time.values) + len(ds_p_d3.time.values) == len(ds_p.time.values)\n",
    "\n",
    "# lonlat_d2 = [150,165, 40,55] #lonmin, lonmax, latmin, latmax\n",
    "# lonlat_d3 = [160,180, 40,60] #lonmin, lonmax, latmin, latmax\n",
    "\n",
    "# ds_p_d2_box = ds_p_d2.sel(lon=slice(lonlat_d2[0], lonlat_d2[1]), lat=slice(lonlat_d2[2], lonlat_d2[3]))\n",
    "# ds_p_d3_box = ds_p_d3.sel(lon=slice(lonlat_d3[0], lonlat_d3[1]), lat=slice(lonlat_d3[2], lonlat_d3[3]))\n",
    "\n",
    "# ds_p_bigbox = ds_p.sel(lon=slice(lonlat_d2[0], lonlat_d3[1]), lat=slice(lonlat_d2[2], lonlat_d3[3]))"
   ]
  },
  {
   "cell_type": "code",
   "execution_count": 6,
   "metadata": {},
   "outputs": [],
   "source": []
  },
  {
   "cell_type": "code",
   "execution_count": 16,
   "metadata": {},
   "outputs": [],
   "source": [
    "ds_p_lonlatbox = data_preprocessing_helpers.get_lonlatbox(ds_p, lon_range=(135,-165), lat_range=(20,70))\n"
   ]
  },
  {
   "cell_type": "code",
   "execution_count": 45,
   "metadata": {},
   "outputs": [
    {
     "data": {
      "text/plain": [
       "numpy.datetime64('2017-04-10T17:00:00.000000000')"
      ]
     },
     "execution_count": 45,
     "metadata": {},
     "output_type": "execute_result"
    }
   ],
   "source": [
    "ds_p_lonlatbox.SLP.time.values"
   ]
  },
  {
   "cell_type": "code",
   "execution_count": 46,
   "metadata": {},
   "outputs": [],
   "source": [
    "## Get min SLP for every hour\n",
    "def get_SLPmin_coords(ds_SLP_field):\n",
    "    slp_min = []\n",
    "    slp_min_lon = []\n",
    "    slp_min_lat = []\n",
    "    time_step = []\n",
    "\n",
    "    if ds_SLP_field.time.shape == ():\n",
    "            min_spl_value = ds_SLP_field.SLP\n",
    "            min_coords = np.unravel_index(min_spl_value.argmin(), min_spl_value.shape)\n",
    "            slp_min_lon.append(float(min_spl_value.lon[min_coords[1]].values))\n",
    "            slp_min_lat.append(float(min_spl_value.lat[min_coords[0]].values))\n",
    "\n",
    "            slp_min.append(float(min_spl_value.values.min()))\n",
    "            time_step.append(ds_SLP_field.SLP.time.values)\n",
    "        \n",
    "    else:\n",
    "        for time in ds_SLP_field.time.values:\n",
    "            min_spl_value = ds_SLP_field.sel(time=time).SLP\n",
    "            min_coords = np.unravel_index(min_spl_value.argmin(), min_spl_value.shape)\n",
    "            slp_min_lon.append(float(min_spl_value.lon[min_coords[1]].values))\n",
    "            slp_min_lat.append(float(min_spl_value.lat[min_coords[0]].values))\n",
    "\n",
    "            slp_min.append(float(min_spl_value.values.min()))\n",
    "            time_step.append(time)\n",
    "        \n",
    "    return slp_min_lon, slp_min_lat, slp_min, time_step\n",
    "\n",
    "slp_lonmin, slp_latmin, slp_min, time_step = get_SLPmin_coords(ds_p_lonlatbox)\n",
    "\n",
    "\n",
    "# slp_lonmin_d2, slp_latmin_d2, slp_min_d2, time_step_d2 = get_SLPmin_coords(ds_p_d2_box)\n",
    "# slp_lonmin_d3, slp_latmin_d3, slp_min_d3, time_step_d3 = get_SLPmin_coords(ds_p_d3_box)\n",
    "\n",
    "# slp_lonmin =  slp_lonmin_d2 + slp_lonmin_d3\n",
    "# slp_latmin =  slp_latmin_d2 + slp_latmin_d3\n",
    "# slp_min =  slp_min_d2 + slp_min_d3\n",
    "# time_step =  time_step_d2 + time_step_d3"
   ]
  },
  {
   "cell_type": "code",
   "execution_count": 47,
   "metadata": {},
   "outputs": [
    {
     "data": {
      "text/plain": [
       "[163.60000610351562]"
      ]
     },
     "execution_count": 47,
     "metadata": {},
     "output_type": "execute_result"
    }
   ],
   "source": [
    "slp_lonmin"
   ]
  },
  {
   "cell_type": "code",
   "execution_count": 48,
   "metadata": {},
   "outputs": [],
   "source": [
    "assert len(slp_lonmin) == len(slp_latmin) == len(slp_min) == len(time_step)"
   ]
  },
  {
   "cell_type": "code",
   "execution_count": 49,
   "metadata": {},
   "outputs": [
    {
     "data": {
      "text/plain": [
       "[964.96435546875]"
      ]
     },
     "execution_count": 49,
     "metadata": {},
     "output_type": "execute_result"
    }
   ],
   "source": [
    "slp_min"
   ]
  },
  {
   "cell_type": "code",
   "execution_count": 50,
   "metadata": {},
   "outputs": [
    {
     "data": {
      "text/plain": [
       "<matplotlib.collections.PathCollection at 0x7f6e5e615160>"
      ]
     },
     "execution_count": 50,
     "metadata": {},
     "output_type": "execute_result"
    },
    {
     "data": {
      "image/png": "[encoded data removed]",
      "text/plain": [
       "<Figure size 432x288 with 2 Axes>"
      ]
     },
     "metadata": {
      "needs_background": "light"
     },
     "output_type": "display_data"
    }
   ],
   "source": [
    "fig,ax = plt.subplots()\n",
    "ds_p_lonlatbox.SLP.plot(ax=ax, vmin=960, vmax=1000)\n",
    "ax.scatter(slp_lonmin, slp_latmin, c=time_step, s=5)\n"
   ]
  },
  {
   "cell_type": "code",
   "execution_count": 51,
   "metadata": {},
   "outputs": [
    {
     "name": "stderr",
     "output_type": "stream",
     "text": [
      "/tmp/ipykernel_62294/3732315560.py:1: FutureWarning: In a future version, when passing a np.datetime64 object and a timezone to Timestamp, the datetime64 will be interpreted as a wall time, not a UTC time.  To interpret as a UTC time, use `Timestamp(dt64).tz_localize('UTC').tz_convert(tz)`\n",
      "  time_steps = [pd.Timestamp(date, tz=pytz.UTC).timestamp() for date in time_step]\n"
     ]
    }
   ],
   "source": [
    "time_steps = [pd.Timestamp(date, tz=pytz.UTC).timestamp() for date in time_step]\n",
    "time_steps1 = [pd.Timestamp(date).timestamp() for date in time_step]"
   ]
  },
  {
   "cell_type": "code",
   "execution_count": null,
   "metadata": {},
   "outputs": [],
   "source": []
  },
  {
   "cell_type": "code",
   "execution_count": 52,
   "metadata": {},
   "outputs": [],
   "source": [
    "# Create iid list with zeros\n",
    "iid = [0.]*len(time_step)\n",
    "# Combine all lists into a 2D array\n",
    "data = np.column_stack((time_steps, iid, slp_lonmin, slp_latmin, slp_min))\n"
   ]
  },
  {
   "cell_type": "code",
   "execution_count": 53,
   "metadata": {},
   "outputs": [
    {
     "name": "stdout",
     "output_type": "stream",
     "text": [
      "<class 'numpy.datetime64'> <class 'float'> <class 'float'> <class 'float'> <class 'float'>\n"
     ]
    }
   ],
   "source": [
    "print(type(time_step[0]), type(iid[0]), type(slp_lonmin[0]), type(slp_latmin[0]), type(slp_min[0]))"
   ]
  },
  {
   "cell_type": "code",
   "execution_count": 54,
   "metadata": {},
   "outputs": [
    {
     "data": {
      "text/plain": [
       "array([[1.49184360e+09, 0.00000000e+00, 1.63600006e+02, 4.72000008e+01,\n",
       "        9.64964355e+02]])"
      ]
     },
     "execution_count": 54,
     "metadata": {},
     "output_type": "execute_result"
    }
   ],
   "source": [
    "data[:,:]"
   ]
  },
  {
   "cell_type": "code",
   "execution_count": 55,
   "metadata": {},
   "outputs": [],
   "source": [
    "# path = '/net/helium/atmosdyn/freimax/data_msc/casestudy_ra/data/TRACKED_CYCLONE.txt'\n",
    "path = '/net/helium/atmosdyn/freimax/data_msc/IFS-17/trajectories/caltra/TRACKED_CYCLONE.txt'\n",
    "# Save the data to a text file, with a header\n",
    "np.savetxt(path, data, delimiter=\" \", header='step iid lon lat inpres', comments='', fmt=['%f', '%d', '%f', '%f', '%f'])"
   ]
  },
  {
   "cell_type": "code",
   "execution_count": null,
   "metadata": {},
   "outputs": [],
   "source": []
  }
 ],
 "metadata": {
  "kernelspec": {
   "display_name": "Python 3",
   "language": "python",
   "name": "python3"
  },
  "language_info": {
   "codemirror_mode": {
    "name": "ipython",
    "version": 3
   },
   "file_extension": ".py",
   "mimetype": "text/x-python",
   "name": "python",
   "nbconvert_exporter": "python",
   "pygments_lexer": "ipython3",
   "version": "3.9.10"
  },
  "orig_nbformat": 4,
  "vscode": {
   "interpreter": {
    "hash": "9b9974df9b6fd1dbe8649bb077b5c470523041d69a28516631c373917dbc819b"
   }
  }
 },
 "nbformat": 4,
 "nbformat_minor": 2
}

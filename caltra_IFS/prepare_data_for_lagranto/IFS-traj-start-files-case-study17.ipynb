{
 "cells": [
  {
   "cell_type": "code",
   "execution_count": 1,
   "metadata": {},
   "outputs": [],
   "source": [
    "import numpy as np\n",
    "import xarray as xr\n",
    "import pickle\n",
    "import os\n",
    "\n",
    "\n",
    "\n",
    "import sys\n",
    "sys.path.append('/home/ascherrmann/scripts/')\n",
    "import helper\n",
    "sys.path.append('/home/freimax/msc_thesis/scripts/helpers/')\n",
    "import data_preprocessing_helpers"
   ]
  },
  {
   "cell_type": "code",
   "execution_count": 2,
   "metadata": {},
   "outputs": [],
   "source": [
    "####\n",
    "## This is only for testing purposes\n",
    "#-----------------------------------\n",
    "\n",
    "# sp = '/net/helium/atmosdyn/freimax/data_msc/IFS-17/ctraj'\n",
    "# f = open(f'{sp}/CaseStudy-CYC-Apr17.txt','rb')\n",
    "# gd = pickle.load(f)\n",
    "# f.close()\n",
    "\n",
    "\n",
    "# for k in gd.keys():\n",
    "#     print(k)#,mid)\n",
    "#     mid = np.where(gd[k]['hSLP']==0)[0][0]\n",
    "#     print(gd[k])\n",
    "#     print(gd[k].keys())"
   ]
  },
  {
   "cell_type": "code",
   "execution_count": 5,
   "metadata": {},
   "outputs": [
    {
     "name": "stdout",
     "output_type": "stream",
     "text": [
      "19\n"
     ]
    }
   ],
   "source": [
    "for j in gd.keys():\n",
    "    print(j)        "
   ]
  },
  {
   "cell_type": "code",
   "execution_count": 4,
   "metadata": {},
   "outputs": [],
   "source": [
    "sp = '/net/helium/atmosdyn/freimax/data_msc/IFS-17/ctraj'\n",
    "f = open(f'{sp}/CaseStudy-CYC-Apr17.txt','rb')\n",
    "gd = pickle.load(f)\n",
    "f.close()\n",
    "\n",
    "Lat = np.round(np.linspace(0,90,226),2)\n",
    "Lon = np.round(np.linspace(-180,180,901),2)\n",
    "\n",
    "\n",
    "# for j in gd.keys():\n",
    "j = 19      # The loop only consists of one iteration\n",
    "mid = np.where(gd[j]['hSLP']==0)[0][0]\n",
    "clat = gd[j]['clat'][mid].astype(int)\n",
    "clon = gd[j]['clon'][mid].astype(int)\n",
    "t = gd[j]['dates'][mid]"
   ]
  },
  {
   "cell_type": "code",
   "execution_count": 54,
   "metadata": {},
   "outputs": [
    {
     "name": "stdout",
     "output_type": "stream",
     "text": [
      "20170410_16\n"
     ]
    }
   ],
   "source": [
    "yyyy = int(t[0:4])\n",
    "MM = int(t[4:6])\n",
    "DD = int(t[6:8])\n",
    "hh = int(t[9:])\n",
    "\n",
    "print(t)\n",
    "ds = xr.open_dataset(f'/net/thermo/atmosdyn/atroman/PAC1d/cdf/2017/04/S{t}', drop_variables=['P','TH','THE','RH','PVRCONVT','PVRCONVM','PVRTURBT','PVRTURBM','PVRLS','PVRCOND','PVRSW','PVRLWH','PVRLWC','PVRDEP','PVREVC','PVREVR','PVRCONV', 'PVRTURB', 'DTHDX', 'DTHDY' ,'PVRSUBI','PVRSUBS','PVRMELTI','PVRMELTS','PVRFRZ','PVRRIME','PVRBF'])\n",
    "# s = xr.open_dataset('/net/thermo/atmosdyn2/atroman/PACaccu/cdf/P'+t, drop_variables=['ttot','tdyn','tsw','tlw','tmix','tconv','tls','tcond','tdep','tbf','tevc','tfrz','trime','tce'])\n",
    "ds = ds.squeeze()"
   ]
  },
  {
   "cell_type": "code",
   "execution_count": 55,
   "metadata": {},
   "outputs": [],
   "source": [
    "## Calculate 3d pressure field on model-levelsfor entire world\n",
    "ds['pres'] = data_preprocessing_helpers.PRES_3d(ds, ds['PV'])"
   ]
  },
  {
   "cell_type": "code",
   "execution_count": 24,
   "metadata": {},
   "outputs": [],
   "source": [
    "# Initialize arrays\n",
    "pt = np.array([])\n",
    "plat = np.array([])\n",
    "plon = np.array([])\n",
    "\n",
    "# Loop over every point in the circle and extract all valid pressure levels\n",
    "for lon, lat in zip(clon, clat):\n",
    "    \n",
    "    # Extract and filter pressure level at lon/lat point\n",
    "    P = ds.isel(dimx_PS=lon, dimy_PS=lat)\n",
    "    valid_P = P.pres[(P.pres >= 700) & (P.pres <= 975)]# & (P.PV>=0.75)] \n",
    "    \n",
    "    # Append values to the specific arrays\n",
    "    pt = np.append(pt, valid_P)\n",
    "    plat = np.append(np.round(plat,1), Lat[[lat] * len(valid_P)])\n",
    "    plon = np.append(np.round(plon,1), Lon[[lon] * len(valid_P)])\n",
    "\n",
    "# Stack arrays into a matrix\n",
    "result_new = np.column_stack((np.zeros_like(pt), plon, plat, pt))"
   ]
  },
  {
   "cell_type": "code",
   "execution_count": 25,
   "metadata": {},
   "outputs": [
    {
     "data": {
      "text/plain": [
       "array([[  0.        , 162.4       ,  45.6       , 974.77008057],\n",
       "       [  0.        , 162.4       ,  45.6       , 968.85412598],\n",
       "       [  0.        , 162.4       ,  45.6       , 962.44421387],\n",
       "       ...,\n",
       "       [  0.        , 164.4       ,  48.8       , 749.25817871],\n",
       "       [  0.        , 164.4       ,  48.8       , 730.5324707 ],\n",
       "       [  0.        , 164.4       ,  48.8       , 711.24957275]])"
      ]
     },
     "execution_count": 25,
     "metadata": {},
     "output_type": "execute_result"
    }
   ],
   "source": [
    "result_new"
   ]
  },
  {
   "cell_type": "code",
   "execution_count": 16,
   "metadata": {},
   "outputs": [
    {
     "data": {
      "text/plain": [
       "(2085, 4)"
      ]
     },
     "execution_count": 16,
     "metadata": {},
     "output_type": "execute_result"
    }
   ],
   "source": [
    "result_new.shape"
   ]
  },
  {
   "cell_type": "code",
   "execution_count": null,
   "metadata": {},
   "outputs": [],
   "source": []
  },
  {
   "cell_type": "code",
   "execution_count": null,
   "metadata": {},
   "outputs": [],
   "source": []
  },
  {
   "cell_type": "code",
   "execution_count": null,
   "metadata": {},
   "outputs": [],
   "source": []
  },
  {
   "cell_type": "code",
   "execution_count": 62,
   "metadata": {},
   "outputs": [],
   "source": [
    "s = xr.open_dataset(f'/net/thermo/atmosdyn/atroman/PAC1d/cdf/2017/04/S{t}', drop_variables=['P','TH','THE','RH','PVRCONVT','PVRCONVM','PVRTURBT','PVRTURBM','PVRLS','PVRCOND','PVRSW','PVRLWH','PVRLWC','PVRDEP','PVREVC','PVREVR','PVRCONV', 'PVRTURB', 'DTHDX', 'DTHDY' ,'PVRSUBI','PVRSUBS','PVRMELTI','PVRMELTS','PVRFRZ','PVRRIME','PVRBF'])\n",
    "PS = s.PS.values[0,0,clat,clon]\n",
    "pv = s.PV.values"
   ]
  },
  {
   "cell_type": "code",
   "execution_count": 63,
   "metadata": {},
   "outputs": [
    {
     "data": {
      "text/plain": [
       "(451, 901)"
      ]
     },
     "execution_count": 63,
     "metadata": {},
     "output_type": "execute_result"
    }
   ],
   "source": [
    "s.PS.values[0,0,:,:].shape"
   ]
  },
  {
   "cell_type": "code",
   "execution_count": 77,
   "metadata": {},
   "outputs": [
    {
     "data": {
      "text/plain": [
       "(95,)"
      ]
     },
     "execution_count": 77,
     "metadata": {},
     "output_type": "execute_result"
    }
   ],
   "source": [
    "clat.shape"
   ]
  },
  {
   "cell_type": "code",
   "execution_count": 78,
   "metadata": {},
   "outputs": [
    {
     "data": {
      "text/plain": [
       "array([114, 114, 114, 114, 114, 115, 115, 115, 115, 115, 115, 115, 115,\n",
       "       115, 116, 116, 116, 116, 116, 116, 116, 116, 116, 116, 116, 117,\n",
       "       117, 117, 117, 117, 117, 117, 117, 117, 117, 117, 117, 117, 118,\n",
       "       118, 118, 118, 118, 118, 118, 118, 118, 118, 118, 118, 118, 119,\n",
       "       119, 119, 119, 119, 119, 119, 119, 119, 119, 119, 119, 119, 120,\n",
       "       120, 120, 120, 120, 120, 120, 120, 120, 120, 120, 120, 120, 121,\n",
       "       121, 121, 121, 121, 121, 121, 121, 121, 121, 121, 122, 122, 122,\n",
       "       122, 122, 122, 122])"
      ]
     },
     "execution_count": 78,
     "metadata": {},
     "output_type": "execute_result"
    }
   ],
   "source": [
    "clat"
   ]
  },
  {
   "cell_type": "code",
   "execution_count": 79,
   "metadata": {},
   "outputs": [
    {
     "data": {
      "text/plain": [
       "array([856, 857, 858, 859, 860, 854, 855, 856, 857, 858, 859, 860, 861,\n",
       "       862, 853, 854, 855, 856, 857, 858, 859, 860, 861, 862, 863, 852,\n",
       "       853, 854, 855, 856, 857, 858, 859, 860, 861, 862, 863, 864, 852,\n",
       "       853, 854, 855, 856, 857, 858, 859, 860, 861, 862, 863, 864, 852,\n",
       "       853, 854, 855, 856, 857, 858, 859, 860, 861, 862, 863, 864, 852,\n",
       "       853, 854, 855, 856, 857, 858, 859, 860, 861, 862, 863, 864, 853,\n",
       "       854, 855, 856, 857, 858, 859, 860, 861, 862, 863, 855, 856, 857,\n",
       "       858, 859, 860, 861])"
      ]
     },
     "execution_count": 79,
     "metadata": {},
     "output_type": "execute_result"
    }
   ],
   "source": [
    "clon"
   ]
  },
  {
   "cell_type": "code",
   "execution_count": 64,
   "metadata": {},
   "outputs": [
    {
     "data": {
      "text/plain": [
       "(95,)"
      ]
     },
     "execution_count": 64,
     "metadata": {},
     "output_type": "execute_result"
    }
   ],
   "source": [
    "s.PS.values[0,0,clat,clon].shape"
   ]
  },
  {
   "cell_type": "code",
   "execution_count": 71,
   "metadata": {},
   "outputs": [],
   "source": [
    "for l in range(len(clat)):\n",
    "    P = helper.modellevel_to_pressure(PS[l])\n",
    "    pid = np.where((P>=700) & (P<=975) & (pv[0,:,clat[l],clon[l]]>=0.75))[0]\n",
    "    for i in pid:\n",
    "            pt = np.append(pt,P[i])\n",
    "            plat = np.append(plat,Lat[clat[l]])\n",
    "            plon = np.append(plon,Lon[clon[l]])\n",
    "            # print(clat[l])\n",
    "\n",
    "save = np.zeros((len(pt),4))\n",
    "save[:,1] = plon\n",
    "save[:,2] = plat\n",
    "save[:,3] = pt"
   ]
  },
  {
   "cell_type": "code",
   "execution_count": 74,
   "metadata": {},
   "outputs": [
    {
     "data": {
      "text/plain": [
       "array([[  0.        , 162.4       ,  45.6       , 974.77008057],\n",
       "       [  0.        , 162.4       ,  45.6       , 968.85412598],\n",
       "       [  0.        , 162.4       ,  45.6       , 962.44421387],\n",
       "       ...,\n",
       "       [  0.        , 164.4       ,  48.8       , 749.25817871],\n",
       "       [  0.        , 164.4       ,  48.8       , 730.5324707 ],\n",
       "       [  0.        , 164.4       ,  48.8       , 711.24957275]])"
      ]
     },
     "execution_count": 74,
     "metadata": {},
     "output_type": "execute_result"
    }
   ],
   "source": [
    "save"
   ]
  },
  {
   "cell_type": "code",
   "execution_count": 86,
   "metadata": {},
   "outputs": [
    {
     "name": "stdout",
     "output_type": "stream",
     "text": [
      "File saved in:\n",
      "\t/net/helium/atmosdyn/freimax/data_msc/IFS-17/ctraj/trastart-mature-20170410_16-ID-000019.txt\n"
     ]
    }
   ],
   "source": [
    "## Save the file\n",
    "np.savetxt(f'{sp}/trastart-mature-{t}-ID-{j:06d}.txt' ,save,fmt='%f', delimiter=' ', newline='\\n')\n",
    "print(f'File saved in:\\n\\t{sp}/trastart-mature-{t}-ID-{j:06d}.txt' )"
   ]
  }
 ],
 "metadata": {
  "kernelspec": {
   "display_name": "Python 3",
   "language": "python",
   "name": "python3"
  },
  "language_info": {
   "codemirror_mode": {
    "name": "ipython",
    "version": 3
   },
   "file_extension": ".py",
   "mimetype": "text/x-python",
   "name": "python",
   "nbconvert_exporter": "python",
   "pygments_lexer": "ipython3",
   "version": "3.9.10"
  },
  "orig_nbformat": 4
 },
 "nbformat": 4,
 "nbformat_minor": 2
}
